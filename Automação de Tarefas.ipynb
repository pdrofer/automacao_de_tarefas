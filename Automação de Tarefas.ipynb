{
 "cells": [
  {
   "cell_type": "markdown",
   "id": "6ffed730-8e8e-43bd-b267-aa4f29956db4",
   "metadata": {},
   "source": [
    "# Automação de Tarefas"
   ]
  },
  {
   "cell_type": "code",
   "execution_count": 13,
   "id": "7cfa810d-44a2-4fb2-850f-0fe9e639fb2a",
   "metadata": {},
   "outputs": [],
   "source": [
    "import yfinance\n",
    "\n"
   ]
  },
  {
   "cell_type": "code",
   "execution_count": null,
   "id": "a52b4fba-ecf0-4eb4-be19-bc0077bdcf3b",
   "metadata": {},
   "outputs": [],
   "source": []
  },
  {
   "cell_type": "code",
   "execution_count": 14,
   "id": "049cf2d3-1b50-486d-bddd-fa2285d2408b",
   "metadata": {},
   "outputs": [
    {
     "name": "stdin",
     "output_type": "stream",
     "text": [
      "Digite o ticker da ação desejada:  PETR4.SA\n"
     ]
    },
    {
     "data": {
      "text/plain": [
       "Date\n",
       "2023-09-20 00:00:00-03:00    33.011879\n",
       "2023-09-21 00:00:00-03:00    32.501633\n",
       "2023-09-22 00:00:00-03:00    32.761570\n",
       "2023-09-25 00:00:00-03:00    32.973370\n",
       "2023-09-26 00:00:00-03:00    32.212814\n",
       "                               ...    \n",
       "2024-03-14 00:00:00-03:00    36.220001\n",
       "2024-03-15 00:00:00-03:00    36.320000\n",
       "2024-03-18 00:00:00-03:00    36.340000\n",
       "2024-03-19 00:00:00-03:00    36.070000\n",
       "2024-03-20 00:00:00-03:00    36.700001\n",
       "Name: Close, Length: 123, dtype: float64"
      ]
     },
     "execution_count": 14,
     "metadata": {},
     "output_type": "execute_result"
    }
   ],
   "source": [
    "codigo = input(\"Digite o ticker da ação desejada: \")\n",
    "\n",
    "dados = yfinance.Ticker(codigo).history(\"6mo\")\n",
    "\n",
    "fechamento = dados.Close\n",
    "fechamento"
   ]
  },
  {
   "cell_type": "code",
   "execution_count": null,
   "id": "c064e646-8021-4b31-a4da-31624db87e6d",
   "metadata": {},
   "outputs": [],
   "source": []
  },
  {
   "cell_type": "markdown",
   "id": "603ceb05-0882-4bdc-983a-0c3dc425ea28",
   "metadata": {},
   "source": [
    "# Análise"
   ]
  },
  {
   "cell_type": "code",
   "execution_count": 15,
   "id": "1e20b44e-faa5-48f4-ace1-d01fdf93886b",
   "metadata": {},
   "outputs": [],
   "source": [
    "# Cotação máxima\n",
    "maxima = fechamento.max()\n",
    "# Cotação mínima\n",
    "minima = fechamento.min()\n",
    "# Cotação atual\n",
    "atual = fechamento.iloc[-1]"
   ]
  },
  {
   "cell_type": "code",
   "execution_count": null,
   "id": "679b064d-2d21-48b9-970a-ec021cc1fa0f",
   "metadata": {},
   "outputs": [],
   "source": []
  },
  {
   "cell_type": "markdown",
   "id": "4bcd67f3-c34d-49f9-9414-bb0f42382ca4",
   "metadata": {},
   "source": [
    "# Automatizando o envio de e-mail"
   ]
  },
  {
   "cell_type": "code",
   "execution_count": 16,
   "id": "732bc7c3-5f86-473f-828e-9f783d5546ba",
   "metadata": {},
   "outputs": [
    {
     "name": "stdout",
     "output_type": "stream",
     "text": [
      "Requirement already satisfied: pyautogui in /opt/anaconda3/lib/python3.11/site-packages (0.9.54)\n",
      "Requirement already satisfied: pymsgbox in /opt/anaconda3/lib/python3.11/site-packages (from pyautogui) (1.0.9)\n",
      "Requirement already satisfied: pytweening>=1.0.4 in /opt/anaconda3/lib/python3.11/site-packages (from pyautogui) (1.2.0)\n",
      "Requirement already satisfied: pyscreeze>=0.1.21 in /opt/anaconda3/lib/python3.11/site-packages (from pyautogui) (0.1.30)\n",
      "Requirement already satisfied: pygetwindow>=0.0.5 in /opt/anaconda3/lib/python3.11/site-packages (from pyautogui) (0.0.9)\n",
      "Requirement already satisfied: mouseinfo in /opt/anaconda3/lib/python3.11/site-packages (from pyautogui) (0.1.3)\n",
      "Requirement already satisfied: pyobjc-core in /opt/anaconda3/lib/python3.11/site-packages (from pyautogui) (10.2)\n",
      "Requirement already satisfied: pyobjc-framework-quartz in /opt/anaconda3/lib/python3.11/site-packages (from pyautogui) (10.2)\n",
      "Requirement already satisfied: pyrect in /opt/anaconda3/lib/python3.11/site-packages (from pygetwindow>=0.0.5->pyautogui) (0.2.0)\n",
      "Requirement already satisfied: Pillow>=9.3.0 in /opt/anaconda3/lib/python3.11/site-packages (from pyscreeze>=0.1.21->pyautogui) (10.2.0)\n",
      "Requirement already satisfied: pyperclip in /opt/anaconda3/lib/python3.11/site-packages (from mouseinfo->pyautogui) (1.8.2)\n",
      "Requirement already satisfied: rubicon-objc in /opt/anaconda3/lib/python3.11/site-packages (from mouseinfo->pyautogui) (0.4.7)\n",
      "Requirement already satisfied: pyobjc-framework-Cocoa>=10.2 in /opt/anaconda3/lib/python3.11/site-packages (from pyobjc-framework-quartz->pyautogui) (10.2)\n"
     ]
    }
   ],
   "source": [
    "import pyautogui\n",
    "import pyperclip"
   ]
  },
  {
   "cell_type": "code",
   "execution_count": 21,
   "id": "94f5efeb-c75a-46af-b525-04a76d32d3ba",
   "metadata": {},
   "outputs": [],
   "source": [
    "pyautogui.PAUSE = 3\n",
    "\n",
    "pyautogui.hotkey(\"command\", \"t\")\n",
    "\n",
    "pyperclip.copy(\"www.gmail.com\")\n",
    "pyautogui.hotkey(\"command\", \"v\")\n",
    "pyautogui.hotkey(\"return\")\n",
    "\n",
    "pyautogui.click(x=92, y=245)\n",
    "\n",
    "pyperclip.copy(\"https://mail.google.com/mail/u/0/#inbox\")\n",
    "pyautogui.hotkey(\"command\", \"v\")\n",
    "pyautogui.hotkey(\"tab\")\n",
    "\n",
    "pyperclip.copy(\"Análises diárias\")\n",
    "pyautogui.hotkey(\"command\", \"v\")\n",
    "pyautogui.hotkey(\"tab\")\n",
    "\n",
    "mensagem = f'''\n",
    "Prezado Gestor,\n",
    "\n",
    "Seguem as análises dos últimos seis mêses da ação {codigo} conforme solicitado:\n",
    "\n",
    "Cotação máxima: R$ {round(maxima, 2)}\n",
    "Cotação mínima: R$ {round(minima, 2)}\n",
    "Cotação atual: R$ {round(atual, 2)}\n",
    "\n",
    "Qualquer dúvida, estou a disposição!\n",
    "\n",
    "Atte.\n",
    "\n",
    "'''\n",
    "\n",
    "pyperclip.copy(mensagem)\n",
    "pyautogui.hotkey(\"command\", \"v\")\n",
    "\n",
    "pyautogui.click()"
   ]
  },
  {
   "cell_type": "code",
   "execution_count": 18,
   "id": "b41d9553-d16e-4b73-916f-cc8e19f1feb8",
   "metadata": {},
   "outputs": [
    {
     "data": {
      "text/plain": [
       "Point(x=915, y=799)"
      ]
     },
     "execution_count": 18,
     "metadata": {},
     "output_type": "execute_result"
    }
   ],
   "source": [
    "import time\n",
    "\n",
    "time.sleep(5)\n",
    "pyautogui.position()"
   ]
  },
  {
   "cell_type": "code",
   "execution_count": null,
   "id": "e6b34ac8-fe36-4740-98a0-7c01b0fe68e8",
   "metadata": {},
   "outputs": [],
   "source": []
  },
  {
   "cell_type": "code",
   "execution_count": null,
   "id": "8bf59047-5e69-48f3-bda4-499a0266e191",
   "metadata": {},
   "outputs": [],
   "source": []
  },
  {
   "cell_type": "code",
   "execution_count": null,
   "id": "98f776e6-7ecb-44f0-a968-4b0b6e6eeceb",
   "metadata": {},
   "outputs": [],
   "source": []
  },
  {
   "cell_type": "code",
   "execution_count": null,
   "id": "7e6d8151-cb60-43ef-bfe9-003ae7175e20",
   "metadata": {},
   "outputs": [],
   "source": []
  },
  {
   "cell_type": "code",
   "execution_count": null,
   "id": "51734344-975b-4dcf-b696-db04bba179f8",
   "metadata": {},
   "outputs": [],
   "source": []
  }
 ],
 "metadata": {
  "kernelspec": {
   "display_name": "Python 3 (ipykernel)",
   "language": "python",
   "name": "python3"
  },
  "language_info": {
   "codemirror_mode": {
    "name": "ipython",
    "version": 3
   },
   "file_extension": ".py",
   "mimetype": "text/x-python",
   "name": "python",
   "nbconvert_exporter": "python",
   "pygments_lexer": "ipython3",
   "version": "3.11.7"
  }
 },
 "nbformat": 4,
 "nbformat_minor": 5
}
